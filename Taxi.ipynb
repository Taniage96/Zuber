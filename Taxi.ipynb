{
 "cells": [
  {
   "cell_type": "markdown",
   "metadata": {},
   "source": [
    "# Introduction\n",
    "This project focuses on the analysis of two sets of data related to the taxi industry in Chicago. The main objective is to understand travel patterns in the city and evaluate the influence of various factors on travel duration."
   ]
  },
  {
   "cell_type": "markdown",
   "metadata": {},
   "source": [
    "#Data upload"
   ]
  },
  {
   "cell_type": "code",
   "execution_count": 80,
   "metadata": {},
   "outputs": [],
   "source": [
    "#Load all libraries\n",
    "import pandas as pd\n",
    "from scipy import stats as st\n",
    "import math as mt\n",
    "import numpy as np\n",
    "from math import factorial\n",
    "import matplotlib.pyplot as plt\n",
    "import plotly.express as px\n",
    "import numpy as np\n",
    "import seaborn as sns\n",
    "from datetime import datetime\n",
    "from scipy.stats import levene, ttest_ind"
   ]
  },
  {
   "cell_type": "code",
   "execution_count": 81,
   "metadata": {},
   "outputs": [],
   "source": [
    "#Load the data files\n",
    "df1 = pd.read_csv('https://practicum-content.s3.us-west-1.amazonaws.com/learning-materials/data-analyst-eng/moved_project_sql_result_01.csv')\n",
    "df2 = pd.read_csv('https://practicum-content.s3.us-west-1.amazonaws.com/learning-materials/data-analyst-eng/moved_project_sql_result_04.csv')\n",
    "df3 = pd.read_csv('https://practicum-content.s3.us-west-1.amazonaws.com/learning-materials/data-analyst-eng/moved_project_sql_result_07.csv')"
   ]
  },
  {
   "cell_type": "markdown",
   "metadata": {},
   "source": [
    "# Exploratory data analysis (Python)"
   ]
  },
  {
   "cell_type": "code",
   "execution_count": 82,
   "metadata": {},
   "outputs": [
    {
     "data": {
      "text/html": [
       "<div>\n",
       "<style scoped>\n",
       "    .dataframe tbody tr th:only-of-type {\n",
       "        vertical-align: middle;\n",
       "    }\n",
       "\n",
       "    .dataframe tbody tr th {\n",
       "        vertical-align: top;\n",
       "    }\n",
       "\n",
       "    .dataframe thead th {\n",
       "        text-align: right;\n",
       "    }\n",
       "</style>\n",
       "<table border=\"1\" class=\"dataframe\">\n",
       "  <thead>\n",
       "    <tr style=\"text-align: right;\">\n",
       "      <th></th>\n",
       "      <th>company_name</th>\n",
       "      <th>trips_amount</th>\n",
       "    </tr>\n",
       "  </thead>\n",
       "  <tbody>\n",
       "    <tr>\n",
       "      <th>0</th>\n",
       "      <td>Flash Cab</td>\n",
       "      <td>19558</td>\n",
       "    </tr>\n",
       "    <tr>\n",
       "      <th>1</th>\n",
       "      <td>Taxi Affiliation Services</td>\n",
       "      <td>11422</td>\n",
       "    </tr>\n",
       "    <tr>\n",
       "      <th>2</th>\n",
       "      <td>Medallion Leasin</td>\n",
       "      <td>10367</td>\n",
       "    </tr>\n",
       "    <tr>\n",
       "      <th>3</th>\n",
       "      <td>Yellow Cab</td>\n",
       "      <td>9888</td>\n",
       "    </tr>\n",
       "    <tr>\n",
       "      <th>4</th>\n",
       "      <td>Taxi Affiliation Service Yellow</td>\n",
       "      <td>9299</td>\n",
       "    </tr>\n",
       "  </tbody>\n",
       "</table>\n",
       "</div>"
      ],
      "text/plain": [
       "                      company_name  trips_amount\n",
       "0                        Flash Cab         19558\n",
       "1        Taxi Affiliation Services         11422\n",
       "2                 Medallion Leasin         10367\n",
       "3                       Yellow Cab          9888\n",
       "4  Taxi Affiliation Service Yellow          9299"
      ]
     },
     "execution_count": 82,
     "metadata": {},
     "output_type": "execute_result"
    }
   ],
   "source": [
    "#Print the general/summarized information about the DataFrame number 1\n",
    "df1.head()"
   ]
  },
  {
   "cell_type": "code",
   "execution_count": 83,
   "metadata": {},
   "outputs": [
    {
     "data": {
      "text/html": [
       "<div>\n",
       "<style scoped>\n",
       "    .dataframe tbody tr th:only-of-type {\n",
       "        vertical-align: middle;\n",
       "    }\n",
       "\n",
       "    .dataframe tbody tr th {\n",
       "        vertical-align: top;\n",
       "    }\n",
       "\n",
       "    .dataframe thead th {\n",
       "        text-align: right;\n",
       "    }\n",
       "</style>\n",
       "<table border=\"1\" class=\"dataframe\">\n",
       "  <thead>\n",
       "    <tr style=\"text-align: right;\">\n",
       "      <th></th>\n",
       "      <th>trips_amount</th>\n",
       "    </tr>\n",
       "  </thead>\n",
       "  <tbody>\n",
       "    <tr>\n",
       "      <th>count</th>\n",
       "      <td>64.000000</td>\n",
       "    </tr>\n",
       "    <tr>\n",
       "      <th>mean</th>\n",
       "      <td>2145.484375</td>\n",
       "    </tr>\n",
       "    <tr>\n",
       "      <th>std</th>\n",
       "      <td>3812.310186</td>\n",
       "    </tr>\n",
       "    <tr>\n",
       "      <th>min</th>\n",
       "      <td>2.000000</td>\n",
       "    </tr>\n",
       "    <tr>\n",
       "      <th>25%</th>\n",
       "      <td>20.750000</td>\n",
       "    </tr>\n",
       "    <tr>\n",
       "      <th>50%</th>\n",
       "      <td>178.500000</td>\n",
       "    </tr>\n",
       "    <tr>\n",
       "      <th>75%</th>\n",
       "      <td>2106.500000</td>\n",
       "    </tr>\n",
       "    <tr>\n",
       "      <th>max</th>\n",
       "      <td>19558.000000</td>\n",
       "    </tr>\n",
       "  </tbody>\n",
       "</table>\n",
       "</div>"
      ],
      "text/plain": [
       "       trips_amount\n",
       "count     64.000000\n",
       "mean    2145.484375\n",
       "std     3812.310186\n",
       "min        2.000000\n",
       "25%       20.750000\n",
       "50%      178.500000\n",
       "75%     2106.500000\n",
       "max    19558.000000"
      ]
     },
     "execution_count": 83,
     "metadata": {},
     "output_type": "execute_result"
    }
   ],
   "source": [
    "#Analyze general information\n",
    "df1.describe()"
   ]
  },
  {
   "cell_type": "code",
   "execution_count": 84,
   "metadata": {},
   "outputs": [
    {
     "data": {
      "text/html": [
       "<div>\n",
       "<style scoped>\n",
       "    .dataframe tbody tr th:only-of-type {\n",
       "        vertical-align: middle;\n",
       "    }\n",
       "\n",
       "    .dataframe tbody tr th {\n",
       "        vertical-align: top;\n",
       "    }\n",
       "\n",
       "    .dataframe thead th {\n",
       "        text-align: right;\n",
       "    }\n",
       "</style>\n",
       "<table border=\"1\" class=\"dataframe\">\n",
       "  <thead>\n",
       "    <tr style=\"text-align: right;\">\n",
       "      <th></th>\n",
       "      <th>average_trips</th>\n",
       "    </tr>\n",
       "  </thead>\n",
       "  <tbody>\n",
       "    <tr>\n",
       "      <th>count</th>\n",
       "      <td>94.000000</td>\n",
       "    </tr>\n",
       "    <tr>\n",
       "      <th>mean</th>\n",
       "      <td>599.953728</td>\n",
       "    </tr>\n",
       "    <tr>\n",
       "      <th>std</th>\n",
       "      <td>1714.591098</td>\n",
       "    </tr>\n",
       "    <tr>\n",
       "      <th>min</th>\n",
       "      <td>1.800000</td>\n",
       "    </tr>\n",
       "    <tr>\n",
       "      <th>25%</th>\n",
       "      <td>14.266667</td>\n",
       "    </tr>\n",
       "    <tr>\n",
       "      <th>50%</th>\n",
       "      <td>52.016667</td>\n",
       "    </tr>\n",
       "    <tr>\n",
       "      <th>75%</th>\n",
       "      <td>298.858333</td>\n",
       "    </tr>\n",
       "    <tr>\n",
       "      <th>max</th>\n",
       "      <td>10727.466667</td>\n",
       "    </tr>\n",
       "  </tbody>\n",
       "</table>\n",
       "</div>"
      ],
      "text/plain": [
       "       average_trips\n",
       "count      94.000000\n",
       "mean      599.953728\n",
       "std      1714.591098\n",
       "min         1.800000\n",
       "25%        14.266667\n",
       "50%        52.016667\n",
       "75%       298.858333\n",
       "max     10727.466667"
      ]
     },
     "execution_count": 84,
     "metadata": {},
     "output_type": "execute_result"
    }
   ],
   "source": [
    "#Analyze general information\n",
    "df2.describe()"
   ]
  },
  {
   "cell_type": "code",
   "execution_count": 85,
   "metadata": {},
   "outputs": [
    {
     "data": {
      "text/html": [
       "<div>\n",
       "<style scoped>\n",
       "    .dataframe tbody tr th:only-of-type {\n",
       "        vertical-align: middle;\n",
       "    }\n",
       "\n",
       "    .dataframe tbody tr th {\n",
       "        vertical-align: top;\n",
       "    }\n",
       "\n",
       "    .dataframe thead th {\n",
       "        text-align: right;\n",
       "    }\n",
       "</style>\n",
       "<table border=\"1\" class=\"dataframe\">\n",
       "  <thead>\n",
       "    <tr style=\"text-align: right;\">\n",
       "      <th></th>\n",
       "      <th>duration_seconds</th>\n",
       "    </tr>\n",
       "  </thead>\n",
       "  <tbody>\n",
       "    <tr>\n",
       "      <th>count</th>\n",
       "      <td>1068.000000</td>\n",
       "    </tr>\n",
       "    <tr>\n",
       "      <th>mean</th>\n",
       "      <td>2071.731273</td>\n",
       "    </tr>\n",
       "    <tr>\n",
       "      <th>std</th>\n",
       "      <td>769.461125</td>\n",
       "    </tr>\n",
       "    <tr>\n",
       "      <th>min</th>\n",
       "      <td>0.000000</td>\n",
       "    </tr>\n",
       "    <tr>\n",
       "      <th>25%</th>\n",
       "      <td>1438.250000</td>\n",
       "    </tr>\n",
       "    <tr>\n",
       "      <th>50%</th>\n",
       "      <td>1980.000000</td>\n",
       "    </tr>\n",
       "    <tr>\n",
       "      <th>75%</th>\n",
       "      <td>2580.000000</td>\n",
       "    </tr>\n",
       "    <tr>\n",
       "      <th>max</th>\n",
       "      <td>7440.000000</td>\n",
       "    </tr>\n",
       "  </tbody>\n",
       "</table>\n",
       "</div>"
      ],
      "text/plain": [
       "       duration_seconds\n",
       "count       1068.000000\n",
       "mean        2071.731273\n",
       "std          769.461125\n",
       "min            0.000000\n",
       "25%         1438.250000\n",
       "50%         1980.000000\n",
       "75%         2580.000000\n",
       "max         7440.000000"
      ]
     },
     "execution_count": 85,
     "metadata": {},
     "output_type": "execute_result"
    }
   ],
   "source": [
    "#Analyze general information\n",
    "df3.describe()"
   ]
  },
  {
   "cell_type": "code",
   "execution_count": 86,
   "metadata": {},
   "outputs": [
    {
     "data": {
      "text/plain": [
       "0     10727.466667\n",
       "1      9523.666667\n",
       "2      6664.666667\n",
       "3      5163.666667\n",
       "4      2546.900000\n",
       "          ...     \n",
       "89        3.137931\n",
       "90        3.117647\n",
       "91        2.333333\n",
       "92        1.961538\n",
       "93        1.800000\n",
       "Name: average_trips, Length: 94, dtype: float64"
      ]
     },
     "execution_count": 86,
     "metadata": {},
     "output_type": "execute_result"
    }
   ],
   "source": [
    "#show average_trips column\n",
    "df2['average_trips']"
   ]
  },
  {
   "cell_type": "code",
   "execution_count": 87,
   "metadata": {},
   "outputs": [
    {
     "name": "stdout",
     "output_type": "stream",
     "text": [
      "<class 'pandas.core.frame.DataFrame'>\n",
      "RangeIndex: 64 entries, 0 to 63\n",
      "Data columns (total 2 columns):\n",
      " #   Column        Non-Null Count  Dtype \n",
      "---  ------        --------------  ----- \n",
      " 0   company_name  64 non-null     object\n",
      " 1   trips_amount  64 non-null     int64 \n",
      "dtypes: int64(1), object(1)\n",
      "memory usage: 1.1+ KB\n"
     ]
    }
   ],
   "source": [
    "#Analyze general information\n",
    "df1.info()"
   ]
  },
  {
   "cell_type": "code",
   "execution_count": 88,
   "metadata": {},
   "outputs": [
    {
     "name": "stdout",
     "output_type": "stream",
     "text": [
      "<class 'pandas.core.frame.DataFrame'>\n",
      "RangeIndex: 94 entries, 0 to 93\n",
      "Data columns (total 2 columns):\n",
      " #   Column                 Non-Null Count  Dtype  \n",
      "---  ------                 --------------  -----  \n",
      " 0   dropoff_location_name  94 non-null     object \n",
      " 1   average_trips          94 non-null     float64\n",
      "dtypes: float64(1), object(1)\n",
      "memory usage: 1.6+ KB\n"
     ]
    }
   ],
   "source": [
    "#Analyze general information\n",
    "df2.info()"
   ]
  },
  {
   "cell_type": "code",
   "execution_count": 89,
   "metadata": {},
   "outputs": [
    {
     "name": "stdout",
     "output_type": "stream",
     "text": [
      "<class 'pandas.core.frame.DataFrame'>\n",
      "RangeIndex: 1068 entries, 0 to 1067\n",
      "Data columns (total 3 columns):\n",
      " #   Column              Non-Null Count  Dtype  \n",
      "---  ------              --------------  -----  \n",
      " 0   start_ts            1068 non-null   object \n",
      " 1   weather_conditions  1068 non-null   object \n",
      " 2   duration_seconds    1068 non-null   float64\n",
      "dtypes: float64(1), object(2)\n",
      "memory usage: 25.2+ KB\n"
     ]
    }
   ],
   "source": [
    "#Analyze general information\n",
    "df3.info()"
   ]
  },
  {
   "cell_type": "code",
   "execution_count": 90,
   "metadata": {},
   "outputs": [
    {
     "data": {
      "text/plain": [
       "0"
      ]
     },
     "execution_count": 90,
     "metadata": {},
     "output_type": "execute_result"
    }
   ],
   "source": [
    "#DF1 duplicate check\n",
    "df1.duplicated().sum()"
   ]
  },
  {
   "cell_type": "code",
   "execution_count": 91,
   "metadata": {},
   "outputs": [
    {
     "data": {
      "text/plain": [
       "0"
      ]
     },
     "execution_count": 91,
     "metadata": {},
     "output_type": "execute_result"
    }
   ],
   "source": [
    "#DF2 duplicate check\n",
    "df2.duplicated().sum()"
   ]
  },
  {
   "cell_type": "code",
   "execution_count": 92,
   "metadata": {},
   "outputs": [
    {
     "data": {
      "text/plain": [
       "197"
      ]
     },
     "execution_count": 92,
     "metadata": {},
     "output_type": "execute_result"
    }
   ],
   "source": [
    "#DF3 duplicate check\n",
    "df3.duplicated().sum()"
   ]
  },
  {
   "cell_type": "code",
   "execution_count": 93,
   "metadata": {},
   "outputs": [
    {
     "data": {
      "text/html": [
       "<div>\n",
       "<style scoped>\n",
       "    .dataframe tbody tr th:only-of-type {\n",
       "        vertical-align: middle;\n",
       "    }\n",
       "\n",
       "    .dataframe tbody tr th {\n",
       "        vertical-align: top;\n",
       "    }\n",
       "\n",
       "    .dataframe thead th {\n",
       "        text-align: right;\n",
       "    }\n",
       "</style>\n",
       "<table border=\"1\" class=\"dataframe\">\n",
       "  <thead>\n",
       "    <tr style=\"text-align: right;\">\n",
       "      <th></th>\n",
       "      <th>start_ts</th>\n",
       "      <th>weather_conditions</th>\n",
       "      <th>duration_seconds</th>\n",
       "    </tr>\n",
       "  </thead>\n",
       "  <tbody>\n",
       "    <tr>\n",
       "      <th>62</th>\n",
       "      <td>2017-11-11 06:00:00</td>\n",
       "      <td>Good</td>\n",
       "      <td>1260.0</td>\n",
       "    </tr>\n",
       "    <tr>\n",
       "      <th>74</th>\n",
       "      <td>2017-11-11 08:00:00</td>\n",
       "      <td>Good</td>\n",
       "      <td>1380.0</td>\n",
       "    </tr>\n",
       "    <tr>\n",
       "      <th>76</th>\n",
       "      <td>2017-11-04 09:00:00</td>\n",
       "      <td>Good</td>\n",
       "      <td>1380.0</td>\n",
       "    </tr>\n",
       "    <tr>\n",
       "      <th>117</th>\n",
       "      <td>2017-11-11 07:00:00</td>\n",
       "      <td>Good</td>\n",
       "      <td>1380.0</td>\n",
       "    </tr>\n",
       "    <tr>\n",
       "      <th>119</th>\n",
       "      <td>2017-11-04 14:00:00</td>\n",
       "      <td>Good</td>\n",
       "      <td>3300.0</td>\n",
       "    </tr>\n",
       "    <tr>\n",
       "      <th>...</th>\n",
       "      <td>...</td>\n",
       "      <td>...</td>\n",
       "      <td>...</td>\n",
       "    </tr>\n",
       "    <tr>\n",
       "      <th>1054</th>\n",
       "      <td>2017-11-11 07:00:00</td>\n",
       "      <td>Good</td>\n",
       "      <td>1380.0</td>\n",
       "    </tr>\n",
       "    <tr>\n",
       "      <th>1058</th>\n",
       "      <td>2017-11-25 12:00:00</td>\n",
       "      <td>Good</td>\n",
       "      <td>1440.0</td>\n",
       "    </tr>\n",
       "    <tr>\n",
       "      <th>1062</th>\n",
       "      <td>2017-11-11 06:00:00</td>\n",
       "      <td>Good</td>\n",
       "      <td>1500.0</td>\n",
       "    </tr>\n",
       "    <tr>\n",
       "      <th>1065</th>\n",
       "      <td>2017-11-11 13:00:00</td>\n",
       "      <td>Good</td>\n",
       "      <td>2100.0</td>\n",
       "    </tr>\n",
       "    <tr>\n",
       "      <th>1066</th>\n",
       "      <td>2017-11-11 08:00:00</td>\n",
       "      <td>Good</td>\n",
       "      <td>1380.0</td>\n",
       "    </tr>\n",
       "  </tbody>\n",
       "</table>\n",
       "<p>197 rows × 3 columns</p>\n",
       "</div>"
      ],
      "text/plain": [
       "                 start_ts weather_conditions  duration_seconds\n",
       "62    2017-11-11 06:00:00               Good            1260.0\n",
       "74    2017-11-11 08:00:00               Good            1380.0\n",
       "76    2017-11-04 09:00:00               Good            1380.0\n",
       "117   2017-11-11 07:00:00               Good            1380.0\n",
       "119   2017-11-04 14:00:00               Good            3300.0\n",
       "...                   ...                ...               ...\n",
       "1054  2017-11-11 07:00:00               Good            1380.0\n",
       "1058  2017-11-25 12:00:00               Good            1440.0\n",
       "1062  2017-11-11 06:00:00               Good            1500.0\n",
       "1065  2017-11-11 13:00:00               Good            2100.0\n",
       "1066  2017-11-11 08:00:00               Good            1380.0\n",
       "\n",
       "[197 rows x 3 columns]"
      ]
     },
     "execution_count": 93,
     "metadata": {},
     "output_type": "execute_result"
    }
   ],
   "source": [
    "#Show duplicates for the dataframe\n",
    "duplicated = df3[df3.duplicated()]\n",
    "duplicated"
   ]
  },
  {
   "cell_type": "code",
   "execution_count": 94,
   "metadata": {},
   "outputs": [],
   "source": [
    "df2['average_trips'] = df2['average_trips'].round(2)"
   ]
  },
  {
   "cell_type": "markdown",
   "metadata": {},
   "source": [
    "3 data frames were analyzed:\n",
    "\n",
    "df1 contains the name of the taxi company and the number of trips for each taxi company on November 15 and 16, 2017. With 64 entries, no duplicates and no missing values.\n",
    "\n",
    "df2 contains the Chicago neighborhoods where trips ended and the average number of trips that ended in each neighborhood in November 2017. No duplicates and no missing values.\n",
    "df3 contains the date and time of the pickup, the weather conditions at the time the trip began, and the duration of the trip in seconds. No missing values ​​were found, but duplicate values ​​were found, which will not be eliminated because they correspond to different trips; the same schedule can have several trips with the same weather conditions and even the same duration."
   ]
  },
  {
   "cell_type": "markdown",
   "metadata": {},
   "source": [
    "# Identify the top 10 neighborhoods in terms of tour completion"
   ]
  },
  {
   "cell_type": "code",
   "execution_count": 95,
   "metadata": {},
   "outputs": [
    {
     "data": {
      "text/html": [
       "<div>\n",
       "<style scoped>\n",
       "    .dataframe tbody tr th:only-of-type {\n",
       "        vertical-align: middle;\n",
       "    }\n",
       "\n",
       "    .dataframe tbody tr th {\n",
       "        vertical-align: top;\n",
       "    }\n",
       "\n",
       "    .dataframe thead th {\n",
       "        text-align: right;\n",
       "    }\n",
       "</style>\n",
       "<table border=\"1\" class=\"dataframe\">\n",
       "  <thead>\n",
       "    <tr style=\"text-align: right;\">\n",
       "      <th></th>\n",
       "      <th>dropoff_location_name</th>\n",
       "      <th>average_trips</th>\n",
       "    </tr>\n",
       "  </thead>\n",
       "  <tbody>\n",
       "    <tr>\n",
       "      <th>0</th>\n",
       "      <td>Loop</td>\n",
       "      <td>10727.47</td>\n",
       "    </tr>\n",
       "    <tr>\n",
       "      <th>1</th>\n",
       "      <td>River North</td>\n",
       "      <td>9523.67</td>\n",
       "    </tr>\n",
       "    <tr>\n",
       "      <th>2</th>\n",
       "      <td>Streeterville</td>\n",
       "      <td>6664.67</td>\n",
       "    </tr>\n",
       "    <tr>\n",
       "      <th>3</th>\n",
       "      <td>West Loop</td>\n",
       "      <td>5163.67</td>\n",
       "    </tr>\n",
       "    <tr>\n",
       "      <th>4</th>\n",
       "      <td>O'Hare</td>\n",
       "      <td>2546.90</td>\n",
       "    </tr>\n",
       "    <tr>\n",
       "      <th>5</th>\n",
       "      <td>Lake View</td>\n",
       "      <td>2420.97</td>\n",
       "    </tr>\n",
       "    <tr>\n",
       "      <th>6</th>\n",
       "      <td>Grant Park</td>\n",
       "      <td>2068.53</td>\n",
       "    </tr>\n",
       "    <tr>\n",
       "      <th>7</th>\n",
       "      <td>Museum Campus</td>\n",
       "      <td>1510.00</td>\n",
       "    </tr>\n",
       "    <tr>\n",
       "      <th>8</th>\n",
       "      <td>Gold Coast</td>\n",
       "      <td>1364.23</td>\n",
       "    </tr>\n",
       "    <tr>\n",
       "      <th>9</th>\n",
       "      <td>Sheffield &amp; DePaul</td>\n",
       "      <td>1259.77</td>\n",
       "    </tr>\n",
       "  </tbody>\n",
       "</table>\n",
       "</div>"
      ],
      "text/plain": [
       "  dropoff_location_name  average_trips\n",
       "0                  Loop       10727.47\n",
       "1           River North        9523.67\n",
       "2         Streeterville        6664.67\n",
       "3             West Loop        5163.67\n",
       "4                O'Hare        2546.90\n",
       "5             Lake View        2420.97\n",
       "6            Grant Park        2068.53\n",
       "7         Museum Campus        1510.00\n",
       "8            Gold Coast        1364.23\n",
       "9    Sheffield & DePaul        1259.77"
      ]
     },
     "execution_count": 95,
     "metadata": {},
     "output_type": "execute_result"
    }
   ],
   "source": [
    "#identify the top 10 neighborhoods in terms of tour completion\n",
    "df2.sort_values('average_trips', ascending = False).head(10)"
   ]
  },
  {
   "cell_type": "code",
   "execution_count": 96,
   "metadata": {},
   "outputs": [],
   "source": [
    "df1_top10 = df1.sort_values('trips_amount',ascending = False).head(10)"
   ]
  },
  {
   "cell_type": "markdown",
   "metadata": {},
   "source": [
    "# Charts for taxi companies and number of trips"
   ]
  },
  {
   "cell_type": "code",
   "execution_count": 105,
   "metadata": {},
   "outputs": [
    {
     "data": {
      "image/png": "[encoded data removed]",
      "text/plain": [
       "<Figure size 640x480 with 1 Axes>"
      ]
     },
     "metadata": {},
     "output_type": "display_data"
    }
   ],
   "source": [
    "# Create a bar chart to visualize the data\n",
    "plt.bar(df1_top10['company_name'], df1_top10['trips_amount'])\n",
    "\n",
    "# Label the chart axes\n",
    "plt.xlabel('Company') # Clarify label translation\n",
    "plt.ylabel('Number of Trips') # Clarify label translation\n",
    "\n",
    "# Add a title to the chart\n",
    "plt.title('Number of Trips per Company -November 15 & 16, 2017)') \n",
    "\n",
    "# Rotate x-axis labels for better readability with long company names\n",
    "plt.xticks(rotation=90)\n",
    "\n",
    "# Add gridlines to the chart for better visualization\n",
    "plt.grid(axis='y')"
   ]
  },
  {
   "cell_type": "code",
   "execution_count": 98,
   "metadata": {},
   "outputs": [],
   "source": [
    "df2_top10 = df2.sort_values('average_trips',ascending = False).head(10)"
   ]
  },
  {
   "cell_type": "markdown",
   "metadata": {},
   "source": [
    "# Top 10 neighborhoods by number of completions"
   ]
  },
  {
   "cell_type": "code",
   "execution_count": 106,
   "metadata": {},
   "outputs": [
    {
     "data": {
      "image/png": "[encoded data removed]",
      "text/plain": [
       "<Figure size 640x480 with 1 Axes>"
      ]
     },
     "metadata": {},
     "output_type": "display_data"
    }
   ],
   "source": [
    "# Plot a bar graph to visualize the data\n",
    "plt.bar(df2_top10['dropoff_location_name'], df2_top10['average_trips'])\n",
    "\n",
    "# Label the axes for clarity\n",
    "plt.xlabel('Neighborhood')  # X-axis label: Neighborhood\n",
    "plt.ylabel('Average Trips')  # Y-axis label: Average Trips\n",
    "\n",
    "# Set the title for the plot\n",
    "plt.title('Top 10 Neighborhoods by Trip Completions')\n",
    "\n",
    "# Rotate x-axis labels for better readability if many neighborhoods\n",
    "plt.xticks(rotation=90)\n",
    "\n",
    "# Add gridlines to the y-axis for better visualization\n",
    "plt.grid(axis='y')"
   ]
  },
  {
   "cell_type": "markdown",
   "metadata": {},
   "source": [
    "We can conclude that Flash Cab has led the number of trips for November 15 and 16, with almost 20,000 trips, while the other companies remained below 12,500 trips. We can also conclude about the top 10 neighborhoods by number of completions that Loop is the neighborhood in which the most trips end, which tells us that it is a very popular neighborhood."
   ]
  },
  {
   "cell_type": "markdown",
   "metadata": {},
   "source": [
    "# Hypothesis testing (Python)"
   ]
  },
  {
   "cell_type": "code",
   "execution_count": 100,
   "metadata": {},
   "outputs": [
    {
     "data": {
      "text/html": [
       "<div>\n",
       "<style scoped>\n",
       "    .dataframe tbody tr th:only-of-type {\n",
       "        vertical-align: middle;\n",
       "    }\n",
       "\n",
       "    .dataframe tbody tr th {\n",
       "        vertical-align: top;\n",
       "    }\n",
       "\n",
       "    .dataframe thead th {\n",
       "        text-align: right;\n",
       "    }\n",
       "</style>\n",
       "<table border=\"1\" class=\"dataframe\">\n",
       "  <thead>\n",
       "    <tr style=\"text-align: right;\">\n",
       "      <th></th>\n",
       "      <th>start_ts</th>\n",
       "      <th>weather_conditions</th>\n",
       "      <th>duration_seconds</th>\n",
       "    </tr>\n",
       "  </thead>\n",
       "  <tbody>\n",
       "    <tr>\n",
       "      <th>0</th>\n",
       "      <td>2017-11-25 16:00:00</td>\n",
       "      <td>Good</td>\n",
       "      <td>2410.0</td>\n",
       "    </tr>\n",
       "    <tr>\n",
       "      <th>1</th>\n",
       "      <td>2017-11-25 14:00:00</td>\n",
       "      <td>Good</td>\n",
       "      <td>1920.0</td>\n",
       "    </tr>\n",
       "    <tr>\n",
       "      <th>2</th>\n",
       "      <td>2017-11-25 12:00:00</td>\n",
       "      <td>Good</td>\n",
       "      <td>1543.0</td>\n",
       "    </tr>\n",
       "    <tr>\n",
       "      <th>3</th>\n",
       "      <td>2017-11-04 10:00:00</td>\n",
       "      <td>Good</td>\n",
       "      <td>2512.0</td>\n",
       "    </tr>\n",
       "    <tr>\n",
       "      <th>4</th>\n",
       "      <td>2017-11-11 07:00:00</td>\n",
       "      <td>Good</td>\n",
       "      <td>1440.0</td>\n",
       "    </tr>\n",
       "  </tbody>\n",
       "</table>\n",
       "</div>"
      ],
      "text/plain": [
       "              start_ts weather_conditions  duration_seconds\n",
       "0  2017-11-25 16:00:00               Good            2410.0\n",
       "1  2017-11-25 14:00:00               Good            1920.0\n",
       "2  2017-11-25 12:00:00               Good            1543.0\n",
       "3  2017-11-04 10:00:00               Good            2512.0\n",
       "4  2017-11-11 07:00:00               Good            1440.0"
      ]
     },
     "execution_count": 100,
     "metadata": {},
     "output_type": "execute_result"
    }
   ],
   "source": [
    "df3.head()"
   ]
  },
  {
   "cell_type": "code",
   "execution_count": 101,
   "metadata": {},
   "outputs": [],
   "source": [
    "df3['start_ts'] = pd.to_datetime(df3['start_ts'], format='%Y-%m-%d %H:%M:%S')\n"
   ]
  },
  {
   "cell_type": "code",
   "execution_count": 102,
   "metadata": {},
   "outputs": [],
   "source": [
    "# Filter the DataFrame for rides with 'Good' weather conditions\n",
    "good_w = df3[df3['weather_conditions'] == 'Good']['duration_seconds'] \n",
    "\n",
    "# Filter the DataFrame for rides with 'Bad' weather conditions\n",
    "bad_w = df3[df3['weather_conditions'] == 'Bad']['duration_seconds']"
   ]
  },
  {
   "cell_type": "markdown",
   "metadata": {},
   "source": [
    "H0: the variance of the data for weather conditions = Good == the variance of the data for weather conditions = Bad\n",
    "\n",
    "H1: the variance of the data for weather conditions = Good == the variance of the data for weather conditions = Bad"
   ]
  },
  {
   "cell_type": "code",
   "execution_count": 103,
   "metadata": {},
   "outputs": [
    {
     "name": "stdout",
     "output_type": "stream",
     "text": [
      "valor p: 0.5332038671974493\n",
      "We cannot reject the null hypothesis (the variances are approximately equal)\n"
     ]
    }
   ],
   "source": [
    "# Set the significance level (alpha)\n",
    "alpha = 0.05 \n",
    "\n",
    "# Perform Levene's test for equality of variances\n",
    "result = levene(good_w, bad_w) \n",
    "\n",
    "# Print the p-value of the Levene's test\n",
    "print('valor p:', result.pvalue)\n",
    "\n",
    "# Compare the p-value to the significance level\n",
    "if result.pvalue < alpha:\n",
    "    print('We reject the null hypothesis (the variances are significantly different)') \n",
    "else:\n",
    "    print('We cannot reject the null hypothesis (the variances are approximately equal)')"
   ]
  },
  {
   "cell_type": "markdown",
   "metadata": {},
   "source": [
    "H0: \"The average trip length from the Loop to O'Hare International Airport is the same on rainy Saturdays.\"\n",
    "\n",
    "H1: \"The average trip length from the Loop to O'Hare International Airport changes on rainy Saturdays.\""
   ]
  },
  {
   "cell_type": "code",
   "execution_count": 104,
   "metadata": {},
   "outputs": [
    {
     "name": "stdout",
     "output_type": "stream",
     "text": [
      "p-value: 6.517970327099473e-12\n",
      "Reject the null hypothesis.\n"
     ]
    }
   ],
   "source": [
    "# Set the significance level (alpha)\n",
    "alpha = 0.05 \n",
    "\n",
    "# Perform an independent two-sample t-test, assuming equal variances\n",
    "results = st.ttest_ind(good_w, bad_w, equal_var=True)\n",
    "\n",
    "# Print the p-value\n",
    "print('p-value:', results.pvalue)\n",
    "\n",
    "# Compare the p-value to the significance level\n",
    "if results.pvalue < alpha:\n",
    "    print('Reject the null hypothesis.') \n",
    "else:\n",
    "    print('Fail to reject the null hypothesis.')"
   ]
  },
  {
   "cell_type": "markdown",
   "metadata": {},
   "source": [
    "The p value obtained (6.517970327099473e-12) is lower than the significance level (α) of 0.05. This means that there is statistically significant evidence to reject the null hypothesis.\n",
    "\n",
    "In other words, we can conclude that the average trip length from the Loop to O'Hare International Airport does change on rainy Saturdays.\n",
    "Trips from the Loop to O'Hare International Airport are likely to be longer on rainy Saturdays compared to other days or weather conditions. This could be due to factors such as:\n",
    "\n",
    "Increased traffic congestion: Rain could cause more traffic on the streets, which slows down travel.\n",
    "Reduced taxi availability: Fewer taxis may be available on rainy days, increasing wait times and trip lengths.\n",
    "More cautious driving: Drivers may be more cautious in rainy conditions, reducing speeds and extending travel time."
   ]
  },
  {
   "cell_type": "markdown",
   "metadata": {},
   "source": [
    "## Conclusion \n",
    " In this project, a comprehensive analysis of three data sets related to the taxi industry in the city of Chicago has been carried out, and a hypothesis test has been carried out to evaluate the influence of weather conditions on the duration of trips. . Below is a detailed summary of the activities carried out and the conclusions obtained:\n",
    "\n",
    "### Loading and Importing Data:\n",
    "Two CSV data sets were imported: /datasets/project_sql_result_01.csv, /datasets/project_sql_result_04.csv and /datasets/project_sql_result_07.csv.\n",
    "The structure and content of the data was verified to ensure its integrity and consistency.\n",
    "\n",
    "### Exploratory Data Analysis:\n",
    "\n",
    "The data were explored descriptively to understand the distribution of variables, identify patterns, and detect potential anomalies.\n",
    "The 10 taxi companies with the highest number of trips and the 10 neighborhoods with the highest concentration of trip completions were identified.\n",
    "\n",
    "### Views:\n",
    "\n",
    "Bar graphs were created to represent the number of trips per taxi company and the number of trip completions per neighborhood.\n",
    "The graphs provided a clear visual representation of the trends and patterns identified in the data.\n",
    "\n",
    "### Hypothesis Testing:\n",
    "It was hypothesized that the average trip length from the Loop to O'Hare International Airport changes on rainy Saturdays.\n",
    "Student's t test was used to compare trip duration on rainy Saturdays with that on other days or weather conditions.\n",
    "A p value of 6.517970327099473e-12 was obtained, indicating that there is statistically significant evidence to reject the null hypothesis.\n",
    "\n",
    "### Conclusions:\n",
    "The taxi company with the highest number of trips during the period analyzed was Flash Cab.\n",
    "The neighborhoods with the highest concentration of trip completions were The Loop, River North and Streeterville.\n",
    "The average trip length from the Loop to O'Hare International Airport does change on rainy Saturdays, with these trips being longer compared to other days or weather conditions."
   ]
  },
  {
   "cell_type": "markdown",
   "metadata": {},
   "source": []
  }
 ],
 "metadata": {
  "ExecuteTimeLog": [
   {
    "duration": 5719,
    "start_time": "2024-07-06T16:54:10.029Z"
   },
   {
    "duration": 277,
    "start_time": "2024-07-06T16:54:50.159Z"
   },
   {
    "duration": 14,
    "start_time": "2024-07-06T16:54:56.683Z"
   },
   {
    "duration": 516,
    "start_time": "2024-07-06T17:00:08.875Z"
   },
   {
    "duration": 10,
    "start_time": "2024-07-06T17:00:21.546Z"
   },
   {
    "duration": 12,
    "start_time": "2024-07-06T17:00:31.787Z"
   },
   {
    "duration": 18,
    "start_time": "2024-07-06T17:00:33.691Z"
   },
   {
    "duration": 18,
    "start_time": "2024-07-06T17:00:41.378Z"
   },
   {
    "duration": 19,
    "start_time": "2024-07-06T17:00:47.618Z"
   },
   {
    "duration": 5,
    "start_time": "2024-07-06T17:03:10.445Z"
   },
   {
    "duration": 14,
    "start_time": "2024-07-06T17:03:20.209Z"
   },
   {
    "duration": 11,
    "start_time": "2024-07-06T17:08:50.649Z"
   },
   {
    "duration": 512,
    "start_time": "2024-07-06T17:13:13.750Z"
   },
   {
    "duration": 1791,
    "start_time": "2024-07-06T17:14:23.778Z"
   },
   {
    "duration": 1792,
    "start_time": "2024-07-06T17:16:32.356Z"
   },
   {
    "duration": 256,
    "start_time": "2024-07-06T17:16:52.408Z"
   },
   {
    "duration": 304,
    "start_time": "2024-07-06T17:19:12.181Z"
   },
   {
    "duration": 310,
    "start_time": "2024-07-06T17:19:40.198Z"
   },
   {
    "duration": 365,
    "start_time": "2024-07-06T17:19:48.173Z"
   },
   {
    "duration": 348,
    "start_time": "2024-07-06T17:19:58.022Z"
   },
   {
    "duration": 5,
    "start_time": "2024-07-06T17:28:45.083Z"
   },
   {
    "duration": 444,
    "start_time": "2024-07-06T17:28:48.103Z"
   },
   {
    "duration": 349,
    "start_time": "2024-07-06T17:29:36.794Z"
   },
   {
    "duration": 367,
    "start_time": "2024-07-06T17:29:49.472Z"
   },
   {
    "duration": 394,
    "start_time": "2024-07-06T17:33:16.422Z"
   },
   {
    "duration": 324,
    "start_time": "2024-07-06T17:33:41.327Z"
   },
   {
    "duration": 6,
    "start_time": "2024-07-06T17:35:16.218Z"
   },
   {
    "duration": 266,
    "start_time": "2024-07-06T17:37:23.422Z"
   },
   {
    "duration": 333,
    "start_time": "2024-07-06T17:40:42.328Z"
   },
   {
    "duration": 331,
    "start_time": "2024-07-06T17:45:37.563Z"
   },
   {
    "duration": 18,
    "start_time": "2024-07-06T17:47:12.999Z"
   },
   {
    "duration": 13,
    "start_time": "2024-07-06T17:47:32.062Z"
   },
   {
    "duration": 24,
    "start_time": "2024-07-06T17:52:20.043Z"
   },
   {
    "duration": 5,
    "start_time": "2024-07-06T17:53:00.731Z"
   },
   {
    "duration": 25,
    "start_time": "2024-07-06T17:53:04.658Z"
   },
   {
    "duration": 350,
    "start_time": "2024-07-06T17:53:18.170Z"
   },
   {
    "duration": 7,
    "start_time": "2024-07-06T17:54:07.634Z"
   },
   {
    "duration": 6,
    "start_time": "2024-07-06T17:57:11.844Z"
   },
   {
    "duration": 26,
    "start_time": "2024-07-06T18:04:15.564Z"
   },
   {
    "duration": 6,
    "start_time": "2024-07-06T18:18:24.347Z"
   },
   {
    "duration": 857,
    "start_time": "2024-07-06T18:18:28.039Z"
   },
   {
    "duration": 7,
    "start_time": "2024-07-06T18:21:17.587Z"
   },
   {
    "duration": 825,
    "start_time": "2024-07-06T18:22:35.030Z"
   },
   {
    "duration": 344,
    "start_time": "2024-07-06T20:41:44.108Z"
   },
   {
    "duration": 5283,
    "start_time": "2024-07-06T20:41:57.053Z"
   },
   {
    "duration": 5,
    "start_time": "2024-07-06T20:42:16.609Z"
   },
   {
    "duration": 541,
    "start_time": "2024-07-06T20:42:16.626Z"
   },
   {
    "duration": 18,
    "start_time": "2024-07-06T20:42:17.171Z"
   },
   {
    "duration": 9,
    "start_time": "2024-07-06T20:42:17.192Z"
   },
   {
    "duration": 18,
    "start_time": "2024-07-06T20:42:17.206Z"
   },
   {
    "duration": 14,
    "start_time": "2024-07-06T20:42:17.228Z"
   },
   {
    "duration": 4,
    "start_time": "2024-07-06T20:42:17.246Z"
   },
   {
    "duration": 13,
    "start_time": "2024-07-06T20:42:17.254Z"
   },
   {
    "duration": 47,
    "start_time": "2024-07-06T20:42:17.270Z"
   },
   {
    "duration": 360,
    "start_time": "2024-07-06T20:42:17.321Z"
   },
   {
    "duration": 8,
    "start_time": "2024-07-06T20:42:17.684Z"
   },
   {
    "duration": 288,
    "start_time": "2024-07-06T20:42:17.696Z"
   },
   {
    "duration": 366,
    "start_time": "2024-07-06T20:42:17.990Z"
   },
   {
    "duration": 16,
    "start_time": "2024-07-06T20:42:18.359Z"
   },
   {
    "duration": 17,
    "start_time": "2024-07-06T20:42:18.381Z"
   },
   {
    "duration": 13,
    "start_time": "2024-07-06T20:42:18.401Z"
   },
   {
    "duration": 0,
    "start_time": "2024-07-06T20:42:18.418Z"
   },
   {
    "duration": 0,
    "start_time": "2024-07-06T20:42:18.420Z"
   },
   {
    "duration": 6,
    "start_time": "2024-07-06T20:43:37.336Z"
   },
   {
    "duration": 6,
    "start_time": "2024-07-06T20:43:42.120Z"
   },
   {
    "duration": 7,
    "start_time": "2024-07-06T20:43:44.007Z"
   },
   {
    "duration": 832,
    "start_time": "2024-07-06T20:43:46.186Z"
   },
   {
    "duration": 7,
    "start_time": "2024-07-06T20:44:22.018Z"
   },
   {
    "duration": 693,
    "start_time": "2024-07-06T20:44:24.757Z"
   },
   {
    "duration": 8,
    "start_time": "2024-07-06T20:44:52.685Z"
   },
   {
    "duration": 6,
    "start_time": "2024-07-06T20:44:58.376Z"
   },
   {
    "duration": 6,
    "start_time": "2024-07-06T20:45:11.005Z"
   },
   {
    "duration": 241,
    "start_time": "2024-07-06T20:51:26.327Z"
   },
   {
    "duration": 301,
    "start_time": "2024-07-06T20:53:26.416Z"
   },
   {
    "duration": 4,
    "start_time": "2024-07-07T01:01:37.283Z"
   },
   {
    "duration": 318,
    "start_time": "2024-07-07T01:06:17.987Z"
   },
   {
    "duration": 26,
    "start_time": "2024-07-07T01:06:28.344Z"
   },
   {
    "duration": 315,
    "start_time": "2024-07-08T02:33:22.199Z"
   },
   {
    "duration": 5283,
    "start_time": "2024-07-08T02:33:27.792Z"
   },
   {
    "duration": 923,
    "start_time": "2024-07-08T02:33:33.079Z"
   },
   {
    "duration": 14,
    "start_time": "2024-07-08T02:33:34.005Z"
   },
   {
    "duration": 17,
    "start_time": "2024-07-08T02:33:37.313Z"
   },
   {
    "duration": 16,
    "start_time": "2024-07-08T02:33:50.571Z"
   },
   {
    "duration": 16,
    "start_time": "2024-07-08T02:34:00.178Z"
   },
   {
    "duration": 17,
    "start_time": "2024-07-08T02:34:33.297Z"
   },
   {
    "duration": 6,
    "start_time": "2024-07-08T02:34:48.508Z"
   },
   {
    "duration": 8,
    "start_time": "2024-07-08T02:35:48.314Z"
   },
   {
    "duration": 9,
    "start_time": "2024-07-08T02:35:59.292Z"
   },
   {
    "duration": 7,
    "start_time": "2024-07-08T02:36:24.471Z"
   },
   {
    "duration": 8,
    "start_time": "2024-07-08T02:36:32.999Z"
   },
   {
    "duration": 9,
    "start_time": "2024-07-08T02:39:08.005Z"
   },
   {
    "duration": 782,
    "start_time": "2024-07-08T02:39:49.004Z"
   },
   {
    "duration": 9,
    "start_time": "2024-07-08T02:40:14.439Z"
   },
   {
    "duration": 442,
    "start_time": "2024-07-08T02:40:23.278Z"
   },
   {
    "duration": 5223,
    "start_time": "2024-07-08T13:52:27.389Z"
   },
   {
    "duration": 835,
    "start_time": "2024-07-08T13:52:32.617Z"
   },
   {
    "duration": 14,
    "start_time": "2024-07-08T13:52:33.455Z"
   },
   {
    "duration": 17,
    "start_time": "2024-07-08T13:52:33.471Z"
   },
   {
    "duration": 18,
    "start_time": "2024-07-08T13:52:33.492Z"
   },
   {
    "duration": 17,
    "start_time": "2024-07-08T13:52:33.513Z"
   },
   {
    "duration": 8,
    "start_time": "2024-07-08T13:52:33.533Z"
   },
   {
    "duration": 15,
    "start_time": "2024-07-08T13:52:33.544Z"
   },
   {
    "duration": 54,
    "start_time": "2024-07-08T13:52:33.562Z"
   },
   {
    "duration": 15,
    "start_time": "2024-07-08T13:52:33.622Z"
   },
   {
    "duration": 11,
    "start_time": "2024-07-08T13:52:33.643Z"
   },
   {
    "duration": 8,
    "start_time": "2024-07-08T13:52:33.657Z"
   },
   {
    "duration": 49,
    "start_time": "2024-07-08T13:52:33.669Z"
   },
   {
    "duration": 10,
    "start_time": "2024-07-08T13:52:57.274Z"
   },
   {
    "duration": 17,
    "start_time": "2024-07-08T13:53:21.357Z"
   },
   {
    "duration": 17,
    "start_time": "2024-07-08T13:54:18.844Z"
   },
   {
    "duration": 7,
    "start_time": "2024-07-08T13:55:11.326Z"
   },
   {
    "duration": 20,
    "start_time": "2024-07-08T13:55:17.885Z"
   }
  ],
  "kernelspec": {
   "display_name": "Python 3 (ipykernel)",
   "language": "python",
   "name": "python3"
  },
  "language_info": {
   "codemirror_mode": {
    "name": "ipython",
    "version": 3
   },
   "file_extension": ".py",
   "mimetype": "text/x-python",
   "name": "python",
   "nbconvert_exporter": "python",
   "pygments_lexer": "ipython3",
   "version": "3.11.7"
  },
  "toc": {
   "base_numbering": 1,
   "nav_menu": {},
   "number_sections": true,
   "sideBar": true,
   "skip_h1_title": true,
   "title_cell": "Table of Contents",
   "title_sidebar": "Contents",
   "toc_cell": false,
   "toc_position": {},
   "toc_section_display": true,
   "toc_window_display": true
  }
 },
 "nbformat": 4,
 "nbformat_minor": 2
}
